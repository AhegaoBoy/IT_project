{
 "cells": [
  {
   "cell_type": "code",
   "metadata": {
    "ExecuteTime": {
     "end_time": "2025-01-12T14:40:22.532347Z",
     "start_time": "2025-01-12T14:40:22.442162Z"
    }
   },
   "source": [
    "import numpy as np \n",
    "import pandas as pd \n",
    "\n",
    "import seaborn as sns\n",
    "\n",
    "import matplotlib.pyplot as plt\n",
    "\n",
    "from sklearn.model_selection import train_test_split\n",
    "\n",
    "from catboost import CatBoostClassifier\n"
   ],
   "outputs": [],
   "execution_count": 1
  },
  {
   "cell_type": "code",
   "metadata": {
    "ExecuteTime": {
     "end_time": "2025-01-12T14:40:23.589734Z",
     "start_time": "2025-01-12T14:40:22.540423Z"
    }
   },
   "source": [
    "train_df = pd.read_csv('train_sessions.csv', index_col = 'session_id')\n",
    "test_df = pd.read_csv('test_sessions.csv', index_col = 'session_id')\n",
    "train_df"
   ],
   "outputs": [
    {
     "data": {
      "text/plain": [
       "            site1                time1    site2                time2    site3  \\\n",
       "session_id                                                                      \n",
       "1             718  2014-02-20 10:02:45      NaN                  NaN      NaN   \n",
       "2             890  2014-02-22 11:19:50    941.0  2014-02-22 11:19:50   3847.0   \n",
       "3           14769  2013-12-16 16:40:17     39.0  2013-12-16 16:40:18  14768.0   \n",
       "4             782  2014-03-28 10:52:12    782.0  2014-03-28 10:52:42    782.0   \n",
       "5              22  2014-02-28 10:53:05    177.0  2014-02-28 10:55:22    175.0   \n",
       "...           ...                  ...      ...                  ...      ...   \n",
       "253557       3474  2013-11-25 10:26:54   3474.0  2013-11-25 10:26:58    141.0   \n",
       "253558      12727  2013-03-12 16:01:15  12727.0  2013-03-12 16:01:16   2215.0   \n",
       "253559       2661  2013-09-12 14:05:03  15004.0  2013-09-12 14:05:10   5562.0   \n",
       "253560        812  2013-12-19 15:20:22    676.0  2013-12-19 15:20:22    814.0   \n",
       "253561      34942  2014-04-25 09:56:52   1429.0  2014-04-25 09:56:53  34942.0   \n",
       "\n",
       "                          time3    site4                time4   site5  \\\n",
       "session_id                                                              \n",
       "1                           NaN      NaN                  NaN     NaN   \n",
       "2           2014-02-22 11:19:51    941.0  2014-02-22 11:19:51   942.0   \n",
       "3           2013-12-16 16:40:19  14769.0  2013-12-16 16:40:19    37.0   \n",
       "4           2014-03-28 10:53:12    782.0  2014-03-28 10:53:42   782.0   \n",
       "5           2014-02-28 10:55:22    178.0  2014-02-28 10:55:23   177.0   \n",
       "...                         ...      ...                  ...     ...   \n",
       "253557      2013-11-25 10:27:03   2428.0  2013-11-25 10:27:04   106.0   \n",
       "253558      2013-03-12 16:01:16     38.0  2013-03-12 16:01:17  2215.0   \n",
       "253559      2013-09-12 14:05:10   5562.0  2013-09-12 14:06:29  5562.0   \n",
       "253560      2013-12-19 15:20:22     22.0  2013-12-19 15:20:22    39.0   \n",
       "253561      2014-04-25 09:56:53     29.0  2014-04-25 09:56:54    30.0   \n",
       "\n",
       "                          time5  ...                time6    site7  \\\n",
       "session_id                       ...                                 \n",
       "1                           NaN  ...                  NaN      NaN   \n",
       "2           2014-02-22 11:19:51  ...  2014-02-22 11:19:51   3847.0   \n",
       "3           2013-12-16 16:40:19  ...  2013-12-16 16:40:19  14768.0   \n",
       "4           2014-03-28 10:54:12  ...  2014-03-28 10:54:42    782.0   \n",
       "5           2014-02-28 10:55:23  ...  2014-02-28 10:55:59    175.0   \n",
       "...                         ...  ...                  ...      ...   \n",
       "253557      2013-11-25 10:27:13  ...  2013-11-25 10:27:16   2428.0   \n",
       "253558      2013-03-12 16:01:17  ...  2013-03-12 16:01:17  25444.0   \n",
       "253559      2013-09-12 14:06:30  ...                  NaN      NaN   \n",
       "253560      2013-12-19 15:20:22  ...  2013-12-19 15:20:23    814.0   \n",
       "253561      2014-04-25 09:56:54  ...  2014-04-25 09:56:54   5779.0   \n",
       "\n",
       "                          time7    site8                time8    site9  \\\n",
       "session_id                                                               \n",
       "1                           NaN      NaN                  NaN      NaN   \n",
       "2           2014-02-22 11:19:52   3846.0  2014-02-22 11:19:52   1516.0   \n",
       "3           2013-12-16 16:40:20  14768.0  2013-12-16 16:40:21  14768.0   \n",
       "4           2014-03-28 10:55:12    782.0  2014-03-28 10:55:42    782.0   \n",
       "5           2014-02-28 10:55:59    177.0  2014-02-28 10:55:59    177.0   \n",
       "...                         ...      ...                  ...      ...   \n",
       "253557      2013-11-25 10:27:28   2428.0  2013-11-25 10:27:40   2428.0   \n",
       "253558      2013-03-12 16:01:18   2215.0  2013-03-12 16:01:18     23.0   \n",
       "253559                      NaN      NaN                  NaN      NaN   \n",
       "253560      2013-12-19 15:20:23    570.0  2013-12-19 15:20:23     22.0   \n",
       "253561      2014-04-25 09:56:54     30.0  2014-04-25 09:56:55     35.0   \n",
       "\n",
       "                          time9   site10               time10 target  \n",
       "session_id                                                            \n",
       "1                           NaN      NaN                  NaN      0  \n",
       "2           2014-02-22 11:20:15   1518.0  2014-02-22 11:20:16      0  \n",
       "3           2013-12-16 16:40:22  14768.0  2013-12-16 16:40:24      0  \n",
       "4           2014-03-28 10:56:12    782.0  2014-03-28 10:56:42      0  \n",
       "5           2014-02-28 10:57:06    178.0  2014-02-28 10:57:11      0  \n",
       "...                         ...      ...                  ...    ...  \n",
       "253557      2013-11-25 10:27:52    148.0  2013-11-25 10:27:53      0  \n",
       "253558      2013-03-12 16:01:18     21.0  2013-03-12 16:01:18      0  \n",
       "253559                      NaN      NaN                  NaN      0  \n",
       "253560      2013-12-19 15:20:24    570.0  2013-12-19 15:20:24      0  \n",
       "253561      2014-04-25 09:56:55     33.0  2014-04-25 09:56:55      0  \n",
       "\n",
       "[253561 rows x 21 columns]"
      ],
      "text/html": [
       "<div>\n",
       "<style scoped>\n",
       "    .dataframe tbody tr th:only-of-type {\n",
       "        vertical-align: middle;\n",
       "    }\n",
       "\n",
       "    .dataframe tbody tr th {\n",
       "        vertical-align: top;\n",
       "    }\n",
       "\n",
       "    .dataframe thead th {\n",
       "        text-align: right;\n",
       "    }\n",
       "</style>\n",
       "<table border=\"1\" class=\"dataframe\">\n",
       "  <thead>\n",
       "    <tr style=\"text-align: right;\">\n",
       "      <th></th>\n",
       "      <th>site1</th>\n",
       "      <th>time1</th>\n",
       "      <th>site2</th>\n",
       "      <th>time2</th>\n",
       "      <th>site3</th>\n",
       "      <th>time3</th>\n",
       "      <th>site4</th>\n",
       "      <th>time4</th>\n",
       "      <th>site5</th>\n",
       "      <th>time5</th>\n",
       "      <th>...</th>\n",
       "      <th>time6</th>\n",
       "      <th>site7</th>\n",
       "      <th>time7</th>\n",
       "      <th>site8</th>\n",
       "      <th>time8</th>\n",
       "      <th>site9</th>\n",
       "      <th>time9</th>\n",
       "      <th>site10</th>\n",
       "      <th>time10</th>\n",
       "      <th>target</th>\n",
       "    </tr>\n",
       "    <tr>\n",
       "      <th>session_id</th>\n",
       "      <th></th>\n",
       "      <th></th>\n",
       "      <th></th>\n",
       "      <th></th>\n",
       "      <th></th>\n",
       "      <th></th>\n",
       "      <th></th>\n",
       "      <th></th>\n",
       "      <th></th>\n",
       "      <th></th>\n",
       "      <th></th>\n",
       "      <th></th>\n",
       "      <th></th>\n",
       "      <th></th>\n",
       "      <th></th>\n",
       "      <th></th>\n",
       "      <th></th>\n",
       "      <th></th>\n",
       "      <th></th>\n",
       "      <th></th>\n",
       "      <th></th>\n",
       "    </tr>\n",
       "  </thead>\n",
       "  <tbody>\n",
       "    <tr>\n",
       "      <th>1</th>\n",
       "      <td>718</td>\n",
       "      <td>2014-02-20 10:02:45</td>\n",
       "      <td>NaN</td>\n",
       "      <td>NaN</td>\n",
       "      <td>NaN</td>\n",
       "      <td>NaN</td>\n",
       "      <td>NaN</td>\n",
       "      <td>NaN</td>\n",
       "      <td>NaN</td>\n",
       "      <td>NaN</td>\n",
       "      <td>...</td>\n",
       "      <td>NaN</td>\n",
       "      <td>NaN</td>\n",
       "      <td>NaN</td>\n",
       "      <td>NaN</td>\n",
       "      <td>NaN</td>\n",
       "      <td>NaN</td>\n",
       "      <td>NaN</td>\n",
       "      <td>NaN</td>\n",
       "      <td>NaN</td>\n",
       "      <td>0</td>\n",
       "    </tr>\n",
       "    <tr>\n",
       "      <th>2</th>\n",
       "      <td>890</td>\n",
       "      <td>2014-02-22 11:19:50</td>\n",
       "      <td>941.0</td>\n",
       "      <td>2014-02-22 11:19:50</td>\n",
       "      <td>3847.0</td>\n",
       "      <td>2014-02-22 11:19:51</td>\n",
       "      <td>941.0</td>\n",
       "      <td>2014-02-22 11:19:51</td>\n",
       "      <td>942.0</td>\n",
       "      <td>2014-02-22 11:19:51</td>\n",
       "      <td>...</td>\n",
       "      <td>2014-02-22 11:19:51</td>\n",
       "      <td>3847.0</td>\n",
       "      <td>2014-02-22 11:19:52</td>\n",
       "      <td>3846.0</td>\n",
       "      <td>2014-02-22 11:19:52</td>\n",
       "      <td>1516.0</td>\n",
       "      <td>2014-02-22 11:20:15</td>\n",
       "      <td>1518.0</td>\n",
       "      <td>2014-02-22 11:20:16</td>\n",
       "      <td>0</td>\n",
       "    </tr>\n",
       "    <tr>\n",
       "      <th>3</th>\n",
       "      <td>14769</td>\n",
       "      <td>2013-12-16 16:40:17</td>\n",
       "      <td>39.0</td>\n",
       "      <td>2013-12-16 16:40:18</td>\n",
       "      <td>14768.0</td>\n",
       "      <td>2013-12-16 16:40:19</td>\n",
       "      <td>14769.0</td>\n",
       "      <td>2013-12-16 16:40:19</td>\n",
       "      <td>37.0</td>\n",
       "      <td>2013-12-16 16:40:19</td>\n",
       "      <td>...</td>\n",
       "      <td>2013-12-16 16:40:19</td>\n",
       "      <td>14768.0</td>\n",
       "      <td>2013-12-16 16:40:20</td>\n",
       "      <td>14768.0</td>\n",
       "      <td>2013-12-16 16:40:21</td>\n",
       "      <td>14768.0</td>\n",
       "      <td>2013-12-16 16:40:22</td>\n",
       "      <td>14768.0</td>\n",
       "      <td>2013-12-16 16:40:24</td>\n",
       "      <td>0</td>\n",
       "    </tr>\n",
       "    <tr>\n",
       "      <th>4</th>\n",
       "      <td>782</td>\n",
       "      <td>2014-03-28 10:52:12</td>\n",
       "      <td>782.0</td>\n",
       "      <td>2014-03-28 10:52:42</td>\n",
       "      <td>782.0</td>\n",
       "      <td>2014-03-28 10:53:12</td>\n",
       "      <td>782.0</td>\n",
       "      <td>2014-03-28 10:53:42</td>\n",
       "      <td>782.0</td>\n",
       "      <td>2014-03-28 10:54:12</td>\n",
       "      <td>...</td>\n",
       "      <td>2014-03-28 10:54:42</td>\n",
       "      <td>782.0</td>\n",
       "      <td>2014-03-28 10:55:12</td>\n",
       "      <td>782.0</td>\n",
       "      <td>2014-03-28 10:55:42</td>\n",
       "      <td>782.0</td>\n",
       "      <td>2014-03-28 10:56:12</td>\n",
       "      <td>782.0</td>\n",
       "      <td>2014-03-28 10:56:42</td>\n",
       "      <td>0</td>\n",
       "    </tr>\n",
       "    <tr>\n",
       "      <th>5</th>\n",
       "      <td>22</td>\n",
       "      <td>2014-02-28 10:53:05</td>\n",
       "      <td>177.0</td>\n",
       "      <td>2014-02-28 10:55:22</td>\n",
       "      <td>175.0</td>\n",
       "      <td>2014-02-28 10:55:22</td>\n",
       "      <td>178.0</td>\n",
       "      <td>2014-02-28 10:55:23</td>\n",
       "      <td>177.0</td>\n",
       "      <td>2014-02-28 10:55:23</td>\n",
       "      <td>...</td>\n",
       "      <td>2014-02-28 10:55:59</td>\n",
       "      <td>175.0</td>\n",
       "      <td>2014-02-28 10:55:59</td>\n",
       "      <td>177.0</td>\n",
       "      <td>2014-02-28 10:55:59</td>\n",
       "      <td>177.0</td>\n",
       "      <td>2014-02-28 10:57:06</td>\n",
       "      <td>178.0</td>\n",
       "      <td>2014-02-28 10:57:11</td>\n",
       "      <td>0</td>\n",
       "    </tr>\n",
       "    <tr>\n",
       "      <th>...</th>\n",
       "      <td>...</td>\n",
       "      <td>...</td>\n",
       "      <td>...</td>\n",
       "      <td>...</td>\n",
       "      <td>...</td>\n",
       "      <td>...</td>\n",
       "      <td>...</td>\n",
       "      <td>...</td>\n",
       "      <td>...</td>\n",
       "      <td>...</td>\n",
       "      <td>...</td>\n",
       "      <td>...</td>\n",
       "      <td>...</td>\n",
       "      <td>...</td>\n",
       "      <td>...</td>\n",
       "      <td>...</td>\n",
       "      <td>...</td>\n",
       "      <td>...</td>\n",
       "      <td>...</td>\n",
       "      <td>...</td>\n",
       "      <td>...</td>\n",
       "    </tr>\n",
       "    <tr>\n",
       "      <th>253557</th>\n",
       "      <td>3474</td>\n",
       "      <td>2013-11-25 10:26:54</td>\n",
       "      <td>3474.0</td>\n",
       "      <td>2013-11-25 10:26:58</td>\n",
       "      <td>141.0</td>\n",
       "      <td>2013-11-25 10:27:03</td>\n",
       "      <td>2428.0</td>\n",
       "      <td>2013-11-25 10:27:04</td>\n",
       "      <td>106.0</td>\n",
       "      <td>2013-11-25 10:27:13</td>\n",
       "      <td>...</td>\n",
       "      <td>2013-11-25 10:27:16</td>\n",
       "      <td>2428.0</td>\n",
       "      <td>2013-11-25 10:27:28</td>\n",
       "      <td>2428.0</td>\n",
       "      <td>2013-11-25 10:27:40</td>\n",
       "      <td>2428.0</td>\n",
       "      <td>2013-11-25 10:27:52</td>\n",
       "      <td>148.0</td>\n",
       "      <td>2013-11-25 10:27:53</td>\n",
       "      <td>0</td>\n",
       "    </tr>\n",
       "    <tr>\n",
       "      <th>253558</th>\n",
       "      <td>12727</td>\n",
       "      <td>2013-03-12 16:01:15</td>\n",
       "      <td>12727.0</td>\n",
       "      <td>2013-03-12 16:01:16</td>\n",
       "      <td>2215.0</td>\n",
       "      <td>2013-03-12 16:01:16</td>\n",
       "      <td>38.0</td>\n",
       "      <td>2013-03-12 16:01:17</td>\n",
       "      <td>2215.0</td>\n",
       "      <td>2013-03-12 16:01:17</td>\n",
       "      <td>...</td>\n",
       "      <td>2013-03-12 16:01:17</td>\n",
       "      <td>25444.0</td>\n",
       "      <td>2013-03-12 16:01:18</td>\n",
       "      <td>2215.0</td>\n",
       "      <td>2013-03-12 16:01:18</td>\n",
       "      <td>23.0</td>\n",
       "      <td>2013-03-12 16:01:18</td>\n",
       "      <td>21.0</td>\n",
       "      <td>2013-03-12 16:01:18</td>\n",
       "      <td>0</td>\n",
       "    </tr>\n",
       "    <tr>\n",
       "      <th>253559</th>\n",
       "      <td>2661</td>\n",
       "      <td>2013-09-12 14:05:03</td>\n",
       "      <td>15004.0</td>\n",
       "      <td>2013-09-12 14:05:10</td>\n",
       "      <td>5562.0</td>\n",
       "      <td>2013-09-12 14:05:10</td>\n",
       "      <td>5562.0</td>\n",
       "      <td>2013-09-12 14:06:29</td>\n",
       "      <td>5562.0</td>\n",
       "      <td>2013-09-12 14:06:30</td>\n",
       "      <td>...</td>\n",
       "      <td>NaN</td>\n",
       "      <td>NaN</td>\n",
       "      <td>NaN</td>\n",
       "      <td>NaN</td>\n",
       "      <td>NaN</td>\n",
       "      <td>NaN</td>\n",
       "      <td>NaN</td>\n",
       "      <td>NaN</td>\n",
       "      <td>NaN</td>\n",
       "      <td>0</td>\n",
       "    </tr>\n",
       "    <tr>\n",
       "      <th>253560</th>\n",
       "      <td>812</td>\n",
       "      <td>2013-12-19 15:20:22</td>\n",
       "      <td>676.0</td>\n",
       "      <td>2013-12-19 15:20:22</td>\n",
       "      <td>814.0</td>\n",
       "      <td>2013-12-19 15:20:22</td>\n",
       "      <td>22.0</td>\n",
       "      <td>2013-12-19 15:20:22</td>\n",
       "      <td>39.0</td>\n",
       "      <td>2013-12-19 15:20:22</td>\n",
       "      <td>...</td>\n",
       "      <td>2013-12-19 15:20:23</td>\n",
       "      <td>814.0</td>\n",
       "      <td>2013-12-19 15:20:23</td>\n",
       "      <td>570.0</td>\n",
       "      <td>2013-12-19 15:20:23</td>\n",
       "      <td>22.0</td>\n",
       "      <td>2013-12-19 15:20:24</td>\n",
       "      <td>570.0</td>\n",
       "      <td>2013-12-19 15:20:24</td>\n",
       "      <td>0</td>\n",
       "    </tr>\n",
       "    <tr>\n",
       "      <th>253561</th>\n",
       "      <td>34942</td>\n",
       "      <td>2014-04-25 09:56:52</td>\n",
       "      <td>1429.0</td>\n",
       "      <td>2014-04-25 09:56:53</td>\n",
       "      <td>34942.0</td>\n",
       "      <td>2014-04-25 09:56:53</td>\n",
       "      <td>29.0</td>\n",
       "      <td>2014-04-25 09:56:54</td>\n",
       "      <td>30.0</td>\n",
       "      <td>2014-04-25 09:56:54</td>\n",
       "      <td>...</td>\n",
       "      <td>2014-04-25 09:56:54</td>\n",
       "      <td>5779.0</td>\n",
       "      <td>2014-04-25 09:56:54</td>\n",
       "      <td>30.0</td>\n",
       "      <td>2014-04-25 09:56:55</td>\n",
       "      <td>35.0</td>\n",
       "      <td>2014-04-25 09:56:55</td>\n",
       "      <td>33.0</td>\n",
       "      <td>2014-04-25 09:56:55</td>\n",
       "      <td>0</td>\n",
       "    </tr>\n",
       "  </tbody>\n",
       "</table>\n",
       "<p>253561 rows × 21 columns</p>\n",
       "</div>"
      ]
     },
     "execution_count": 2,
     "metadata": {},
     "output_type": "execute_result"
    }
   ],
   "execution_count": 2
  },
  {
   "metadata": {
    "ExecuteTime": {
     "end_time": "2025-01-12T14:40:23.683651Z",
     "start_time": "2025-01-12T14:40:23.666701Z"
    }
   },
   "cell_type": "code",
   "source": "train_df[train_df['target'] == 1].shape, train_df[train_df['target'] == 0].shape",
   "outputs": [
    {
     "data": {
      "text/plain": [
       "((2297, 21), (251264, 21))"
      ]
     },
     "execution_count": 3,
     "metadata": {},
     "output_type": "execute_result"
    }
   ],
   "execution_count": 3
  },
  {
   "metadata": {
    "ExecuteTime": {
     "end_time": "2025-01-12T14:40:25.332797Z",
     "start_time": "2025-01-12T14:40:23.700454Z"
    }
   },
   "cell_type": "code",
   "source": [
    "features = pd.DataFrame()\n",
    "\n",
    "sites = train_df[['site%s' % i for i in range(1,11)]].fillna(0).astype(int).values\n",
    "times = train_df[['time%s' % i for i in range(1,11)]]\n",
    "\n",
    "for td_index in range(1, 10):\n",
    "    features['target'] = train_df['target']\n",
    "    features['time_diff{}'.format(td_index)] = (pd.to_datetime(times['time{}'.format(td_index + 1)]) - pd.to_datetime(times['time{}'.format(td_index)])).dt.total_seconds().fillna(0)\n",
    "    \n",
    "features['time_of_session'] = np.sum(features, axis = 1)\n",
    "features['hour'] = pd.to_datetime(times['time1']).dt.hour\n",
    "features['dow'] = pd.to_datetime(times['time1']).dt.dayofweek\n",
    "features['month'] = pd.to_datetime(times['time1']).dt.month\n",
    "features['unique_sites'] = [len(np.unique(session[session != 0])) for session in sites]"
   ],
   "outputs": [],
   "execution_count": 4
  },
  {
   "metadata": {
    "ExecuteTime": {
     "end_time": "2025-01-12T14:40:26.136635Z",
     "start_time": "2025-01-12T14:40:25.353411Z"
    }
   },
   "cell_type": "code",
   "source": "features['unique_sites'] = [len(np.unique(session[session != 0])) for session in sites]",
   "outputs": [],
   "execution_count": 5
  },
  {
   "metadata": {
    "ExecuteTime": {
     "end_time": "2025-01-12T14:40:26.172291Z",
     "start_time": "2025-01-12T14:40:26.165348Z"
    }
   },
   "cell_type": "code",
   "source": "features",
   "outputs": [
    {
     "data": {
      "text/plain": [
       "            target  time_diff1  time_diff2  time_diff3  time_diff4  \\\n",
       "session_id                                                           \n",
       "1                0         0.0         0.0         0.0         0.0   \n",
       "2                0         0.0         1.0         0.0         0.0   \n",
       "3                0         1.0         1.0         0.0         0.0   \n",
       "4                0        30.0        30.0        30.0        30.0   \n",
       "5                0       137.0         0.0         1.0         0.0   \n",
       "...            ...         ...         ...         ...         ...   \n",
       "253557           0         4.0         5.0         1.0         9.0   \n",
       "253558           0         1.0         0.0         1.0         0.0   \n",
       "253559           0         7.0         0.0        79.0         1.0   \n",
       "253560           0         0.0         0.0         0.0         0.0   \n",
       "253561           0         1.0         0.0         1.0         0.0   \n",
       "\n",
       "            time_diff5  time_diff6  time_diff7  time_diff8  time_diff9  \\\n",
       "session_id                                                               \n",
       "1                  0.0         0.0         0.0         0.0         0.0   \n",
       "2                  0.0         1.0         0.0        23.0         1.0   \n",
       "3                  0.0         1.0         1.0         1.0         2.0   \n",
       "4                 30.0        30.0        30.0        30.0        30.0   \n",
       "5                 36.0         0.0         0.0        67.0         5.0   \n",
       "...                ...         ...         ...         ...         ...   \n",
       "253557             3.0        12.0        12.0        12.0         1.0   \n",
       "253558             0.0         1.0         0.0         0.0         0.0   \n",
       "253559             0.0         0.0         0.0         0.0         0.0   \n",
       "253560             1.0         0.0         0.0         1.0         0.0   \n",
       "253561             0.0         0.0         1.0         0.0         0.0   \n",
       "\n",
       "            time_of_session  hour  dow  month  unique_sites  \n",
       "session_id                                                   \n",
       "1                       0.0    10    3      2             1  \n",
       "2                      26.0    11    5      2             7  \n",
       "3                       7.0    16    0     12             4  \n",
       "4                     270.0    10    4      3             1  \n",
       "5                     246.0    10    4      2             4  \n",
       "...                     ...   ...  ...    ...           ...  \n",
       "253557                 59.0    10    0     11             5  \n",
       "253558                  3.0    16    1      3             6  \n",
       "253559                 87.0    14    3      9             3  \n",
       "253560                  2.0    15    3     12             6  \n",
       "253561                  3.0     9    4      4             7  \n",
       "\n",
       "[253561 rows x 15 columns]"
      ],
      "text/html": [
       "<div>\n",
       "<style scoped>\n",
       "    .dataframe tbody tr th:only-of-type {\n",
       "        vertical-align: middle;\n",
       "    }\n",
       "\n",
       "    .dataframe tbody tr th {\n",
       "        vertical-align: top;\n",
       "    }\n",
       "\n",
       "    .dataframe thead th {\n",
       "        text-align: right;\n",
       "    }\n",
       "</style>\n",
       "<table border=\"1\" class=\"dataframe\">\n",
       "  <thead>\n",
       "    <tr style=\"text-align: right;\">\n",
       "      <th></th>\n",
       "      <th>target</th>\n",
       "      <th>time_diff1</th>\n",
       "      <th>time_diff2</th>\n",
       "      <th>time_diff3</th>\n",
       "      <th>time_diff4</th>\n",
       "      <th>time_diff5</th>\n",
       "      <th>time_diff6</th>\n",
       "      <th>time_diff7</th>\n",
       "      <th>time_diff8</th>\n",
       "      <th>time_diff9</th>\n",
       "      <th>time_of_session</th>\n",
       "      <th>hour</th>\n",
       "      <th>dow</th>\n",
       "      <th>month</th>\n",
       "      <th>unique_sites</th>\n",
       "    </tr>\n",
       "    <tr>\n",
       "      <th>session_id</th>\n",
       "      <th></th>\n",
       "      <th></th>\n",
       "      <th></th>\n",
       "      <th></th>\n",
       "      <th></th>\n",
       "      <th></th>\n",
       "      <th></th>\n",
       "      <th></th>\n",
       "      <th></th>\n",
       "      <th></th>\n",
       "      <th></th>\n",
       "      <th></th>\n",
       "      <th></th>\n",
       "      <th></th>\n",
       "      <th></th>\n",
       "    </tr>\n",
       "  </thead>\n",
       "  <tbody>\n",
       "    <tr>\n",
       "      <th>1</th>\n",
       "      <td>0</td>\n",
       "      <td>0.0</td>\n",
       "      <td>0.0</td>\n",
       "      <td>0.0</td>\n",
       "      <td>0.0</td>\n",
       "      <td>0.0</td>\n",
       "      <td>0.0</td>\n",
       "      <td>0.0</td>\n",
       "      <td>0.0</td>\n",
       "      <td>0.0</td>\n",
       "      <td>0.0</td>\n",
       "      <td>10</td>\n",
       "      <td>3</td>\n",
       "      <td>2</td>\n",
       "      <td>1</td>\n",
       "    </tr>\n",
       "    <tr>\n",
       "      <th>2</th>\n",
       "      <td>0</td>\n",
       "      <td>0.0</td>\n",
       "      <td>1.0</td>\n",
       "      <td>0.0</td>\n",
       "      <td>0.0</td>\n",
       "      <td>0.0</td>\n",
       "      <td>1.0</td>\n",
       "      <td>0.0</td>\n",
       "      <td>23.0</td>\n",
       "      <td>1.0</td>\n",
       "      <td>26.0</td>\n",
       "      <td>11</td>\n",
       "      <td>5</td>\n",
       "      <td>2</td>\n",
       "      <td>7</td>\n",
       "    </tr>\n",
       "    <tr>\n",
       "      <th>3</th>\n",
       "      <td>0</td>\n",
       "      <td>1.0</td>\n",
       "      <td>1.0</td>\n",
       "      <td>0.0</td>\n",
       "      <td>0.0</td>\n",
       "      <td>0.0</td>\n",
       "      <td>1.0</td>\n",
       "      <td>1.0</td>\n",
       "      <td>1.0</td>\n",
       "      <td>2.0</td>\n",
       "      <td>7.0</td>\n",
       "      <td>16</td>\n",
       "      <td>0</td>\n",
       "      <td>12</td>\n",
       "      <td>4</td>\n",
       "    </tr>\n",
       "    <tr>\n",
       "      <th>4</th>\n",
       "      <td>0</td>\n",
       "      <td>30.0</td>\n",
       "      <td>30.0</td>\n",
       "      <td>30.0</td>\n",
       "      <td>30.0</td>\n",
       "      <td>30.0</td>\n",
       "      <td>30.0</td>\n",
       "      <td>30.0</td>\n",
       "      <td>30.0</td>\n",
       "      <td>30.0</td>\n",
       "      <td>270.0</td>\n",
       "      <td>10</td>\n",
       "      <td>4</td>\n",
       "      <td>3</td>\n",
       "      <td>1</td>\n",
       "    </tr>\n",
       "    <tr>\n",
       "      <th>5</th>\n",
       "      <td>0</td>\n",
       "      <td>137.0</td>\n",
       "      <td>0.0</td>\n",
       "      <td>1.0</td>\n",
       "      <td>0.0</td>\n",
       "      <td>36.0</td>\n",
       "      <td>0.0</td>\n",
       "      <td>0.0</td>\n",
       "      <td>67.0</td>\n",
       "      <td>5.0</td>\n",
       "      <td>246.0</td>\n",
       "      <td>10</td>\n",
       "      <td>4</td>\n",
       "      <td>2</td>\n",
       "      <td>4</td>\n",
       "    </tr>\n",
       "    <tr>\n",
       "      <th>...</th>\n",
       "      <td>...</td>\n",
       "      <td>...</td>\n",
       "      <td>...</td>\n",
       "      <td>...</td>\n",
       "      <td>...</td>\n",
       "      <td>...</td>\n",
       "      <td>...</td>\n",
       "      <td>...</td>\n",
       "      <td>...</td>\n",
       "      <td>...</td>\n",
       "      <td>...</td>\n",
       "      <td>...</td>\n",
       "      <td>...</td>\n",
       "      <td>...</td>\n",
       "      <td>...</td>\n",
       "    </tr>\n",
       "    <tr>\n",
       "      <th>253557</th>\n",
       "      <td>0</td>\n",
       "      <td>4.0</td>\n",
       "      <td>5.0</td>\n",
       "      <td>1.0</td>\n",
       "      <td>9.0</td>\n",
       "      <td>3.0</td>\n",
       "      <td>12.0</td>\n",
       "      <td>12.0</td>\n",
       "      <td>12.0</td>\n",
       "      <td>1.0</td>\n",
       "      <td>59.0</td>\n",
       "      <td>10</td>\n",
       "      <td>0</td>\n",
       "      <td>11</td>\n",
       "      <td>5</td>\n",
       "    </tr>\n",
       "    <tr>\n",
       "      <th>253558</th>\n",
       "      <td>0</td>\n",
       "      <td>1.0</td>\n",
       "      <td>0.0</td>\n",
       "      <td>1.0</td>\n",
       "      <td>0.0</td>\n",
       "      <td>0.0</td>\n",
       "      <td>1.0</td>\n",
       "      <td>0.0</td>\n",
       "      <td>0.0</td>\n",
       "      <td>0.0</td>\n",
       "      <td>3.0</td>\n",
       "      <td>16</td>\n",
       "      <td>1</td>\n",
       "      <td>3</td>\n",
       "      <td>6</td>\n",
       "    </tr>\n",
       "    <tr>\n",
       "      <th>253559</th>\n",
       "      <td>0</td>\n",
       "      <td>7.0</td>\n",
       "      <td>0.0</td>\n",
       "      <td>79.0</td>\n",
       "      <td>1.0</td>\n",
       "      <td>0.0</td>\n",
       "      <td>0.0</td>\n",
       "      <td>0.0</td>\n",
       "      <td>0.0</td>\n",
       "      <td>0.0</td>\n",
       "      <td>87.0</td>\n",
       "      <td>14</td>\n",
       "      <td>3</td>\n",
       "      <td>9</td>\n",
       "      <td>3</td>\n",
       "    </tr>\n",
       "    <tr>\n",
       "      <th>253560</th>\n",
       "      <td>0</td>\n",
       "      <td>0.0</td>\n",
       "      <td>0.0</td>\n",
       "      <td>0.0</td>\n",
       "      <td>0.0</td>\n",
       "      <td>1.0</td>\n",
       "      <td>0.0</td>\n",
       "      <td>0.0</td>\n",
       "      <td>1.0</td>\n",
       "      <td>0.0</td>\n",
       "      <td>2.0</td>\n",
       "      <td>15</td>\n",
       "      <td>3</td>\n",
       "      <td>12</td>\n",
       "      <td>6</td>\n",
       "    </tr>\n",
       "    <tr>\n",
       "      <th>253561</th>\n",
       "      <td>0</td>\n",
       "      <td>1.0</td>\n",
       "      <td>0.0</td>\n",
       "      <td>1.0</td>\n",
       "      <td>0.0</td>\n",
       "      <td>0.0</td>\n",
       "      <td>0.0</td>\n",
       "      <td>1.0</td>\n",
       "      <td>0.0</td>\n",
       "      <td>0.0</td>\n",
       "      <td>3.0</td>\n",
       "      <td>9</td>\n",
       "      <td>4</td>\n",
       "      <td>4</td>\n",
       "      <td>7</td>\n",
       "    </tr>\n",
       "  </tbody>\n",
       "</table>\n",
       "<p>253561 rows × 15 columns</p>\n",
       "</div>"
      ]
     },
     "execution_count": 6,
     "metadata": {},
     "output_type": "execute_result"
    }
   ],
   "execution_count": 6
  },
  {
   "metadata": {
    "ExecuteTime": {
     "end_time": "2025-01-12T14:40:26.644618Z",
     "start_time": "2025-01-12T14:40:26.194719Z"
    }
   },
   "cell_type": "code",
   "source": [
    "plot = sns.FacetGrid(features, col = 'target')\n",
    "plot.map(sns.histplot, 'time_of_session', color = 'blue')\n",
    "plt.xlim(-50, 400)"
   ],
   "outputs": [
    {
     "data": {
      "text/plain": [
       "(-50.0, 400.0)"
      ]
     },
     "execution_count": 7,
     "metadata": {},
     "output_type": "execute_result"
    },
    {
     "data": {
      "text/plain": [
       "<Figure size 600x300 with 2 Axes>"
      ],
      "image/png": "[encoded data removed]"
     },
     "metadata": {},
     "output_type": "display_data"
    }
   ],
   "execution_count": 7
  },
  {
   "metadata": {
    "ExecuteTime": {
     "end_time": "2025-01-12T14:40:27.190834Z",
     "start_time": "2025-01-12T14:40:26.662038Z"
    }
   },
   "cell_type": "code",
   "source": [
    "plt.figure()\n",
    "sns.countplot(x = features['hour'], data = features, hue = 'target')\n",
    "plt.ylabel('Session count')\n",
    "plt.xlabel('Session start')\n",
    "plt.title('Sessions distributions')\n",
    "\n",
    "plt.figure()\n",
    "sns.countplot(x = features['hour'], data = features, hue = 'target')\n",
    "plt.ylim(0, 1000)\n",
    "plt.ylabel('Session count')\n",
    "plt.xlabel('Session start')\n",
    "plt.title('Target = 1')"
   ],
   "outputs": [
    {
     "data": {
      "text/plain": [
       "Text(0.5, 1.0, 'Target = 1')"
      ]
     },
     "execution_count": 8,
     "metadata": {},
     "output_type": "execute_result"
    },
    {
     "data": {
      "text/plain": [
       "<Figure size 640x480 with 1 Axes>"
      ],
      "image/png": "[encoded data removed]"
     },
     "metadata": {},
     "output_type": "display_data"
    },
    {
     "data": {
      "text/plain": [
       "<Figure size 640x480 with 1 Axes>"
      ],
      "image/png": "[encoded data removed]"
     },
     "metadata": {},
     "output_type": "display_data"
    }
   ],
   "execution_count": 8
  },
  {
   "metadata": {
    "ExecuteTime": {
     "end_time": "2025-01-12T14:40:27.659089Z",
     "start_time": "2025-01-12T14:40:27.198715Z"
    }
   },
   "cell_type": "code",
   "source": [
    "plt.figure()\n",
    "sns.countplot(x = features['dow'], data = features, hue = 'target')\n",
    "plt.ylabel('Session count')\n",
    "plt.xlabel('Session dow')\n",
    "plt.title('Session dow distributions')\n",
    "\n",
    "plt.figure()\n",
    "plt.ylim(0, 1000)\n",
    "sns.countplot(x = features['dow'], data = features, hue = 'target')\n",
    "plt.ylabel('Session dow count')\n",
    "plt.xlabel('Session dow')\n",
    "plt.title('Target = 1')"
   ],
   "outputs": [
    {
     "data": {
      "text/plain": [
       "Text(0.5, 1.0, 'Target = 1')"
      ]
     },
     "execution_count": 9,
     "metadata": {},
     "output_type": "execute_result"
    },
    {
     "data": {
      "text/plain": [
       "<Figure size 640x480 with 1 Axes>"
      ],
      "image/png": "[encoded data removed]"
     },
     "metadata": {},
     "output_type": "display_data"
    },
    {
     "data": {
      "text/plain": [
       "<Figure size 640x480 with 1 Axes>"
      ],
      "image/png": "[encoded data removed]"
     },
     "metadata": {},
     "output_type": "display_data"
    }
   ],
   "execution_count": 9
  },
  {
   "metadata": {
    "ExecuteTime": {
     "end_time": "2025-01-12T14:40:28.290068Z",
     "start_time": "2025-01-12T14:40:27.671415Z"
    }
   },
   "cell_type": "code",
   "source": [
    "plt.figure()\n",
    "sns.countplot(x = features['month'], data = features, hue = 'target')\n",
    "plt.ylabel('Session month count')\n",
    "plt.xlabel('Session month')\n",
    "plt.title('Session month distributions')\n",
    "\n",
    "plt.figure()\n",
    "plt.ylim(0, 1000)\n",
    "sns.countplot(x = features['month'], data = features, hue = 'target')\n",
    "plt.ylabel('Session month count')\n",
    "plt.xlabel('Session month')\n",
    "plt.title('Target = 1')"
   ],
   "outputs": [
    {
     "data": {
      "text/plain": [
       "Text(0.5, 1.0, 'Target = 1')"
      ]
     },
     "execution_count": 10,
     "metadata": {},
     "output_type": "execute_result"
    },
    {
     "data": {
      "text/plain": [
       "<Figure size 640x480 with 1 Axes>"
      ],
      "image/png": "[encoded data removed]"
     },
     "metadata": {},
     "output_type": "display_data"
    },
    {
     "data": {
      "text/plain": [
       "<Figure size 640x480 with 1 Axes>"
      ],
      "image/png": "[encoded data removed]"
     },
     "metadata": {},
     "output_type": "display_data"
    }
   ],
   "execution_count": 10
  },
  {
   "metadata": {
    "ExecuteTime": {
     "end_time": "2025-01-12T14:40:28.303777Z",
     "start_time": "2025-01-12T14:40:28.300700Z"
    }
   },
   "cell_type": "code",
   "source": [
    "def preprocessing_data(raw_data : pd.DataFrame) -> pd.DataFrame:\n",
    "    _test = pd.DataFrame()\n",
    "    sites = raw_data[['site%s' % i for i in range(1,11)]].fillna(0).astype(int).values\n",
    "    times = raw_data[['time%s' % i for i in range(1,11)]]\n",
    "    \n",
    "    for td_index in range(1, 10):\n",
    "        _test['target'] = raw_data['target']\n",
    "        _test['time_diff{}'.format(td_index)] = (pd.to_datetime(times['time{}'.format(td_index + 1)]) - pd.to_datetime(times['time{}'.format(td_index)])).dt.total_seconds().fillna(0)\n",
    "        \n",
    "    _test['time_of_session'] = np.sum(_test, axis = 1)\n",
    "    _test['hour'] = pd.to_datetime(times['time1']).dt.hour\n",
    "    _test['dow'] = pd.to_datetime(times['time1']).dt.dayofweek\n",
    "    _test['month'] = pd.to_datetime(times['time1']).dt.month\n",
    "    _test['unique_sites'] = [len([np.unique(session[session != 0])]) for session in sites]\n",
    "    \n",
    "    _test['target_hour'] = np.where( ( (_test['hour'] >= 12) & (_test['hour'] <= 13) ) | ( (_test['hour'] >= 16) & (_test['hour'] <= 18)) , 1 , 0)\n",
    "\n",
    "    _test['target_dow'] = np.where( ((_test['dow'] == 5) | (_test['dow'] == 6) ), 1, 0)\n",
    "    \n",
    "    _test['target_month'] = np.where( (_test['month'] >= 5) | (_test['month'] <= 8), 0, 1)    \n",
    "    return _test"
   ],
   "outputs": [],
   "execution_count": 11
  },
  {
   "metadata": {
    "ExecuteTime": {
     "end_time": "2025-01-12T14:40:29.964714Z",
     "start_time": "2025-01-12T14:40:28.319963Z"
    }
   },
   "cell_type": "code",
   "source": [
    "test = preprocessing_data(train_df)\n",
    "y = test['target']\n",
    "test.drop(columns = ['target'], inplace = True)\n",
    "test"
   ],
   "outputs": [
    {
     "data": {
      "text/plain": [
       "            time_diff1  time_diff2  time_diff3  time_diff4  time_diff5  \\\n",
       "session_id                                                               \n",
       "1                  0.0         0.0         0.0         0.0         0.0   \n",
       "2                  0.0         1.0         0.0         0.0         0.0   \n",
       "3                  1.0         1.0         0.0         0.0         0.0   \n",
       "4                 30.0        30.0        30.0        30.0        30.0   \n",
       "5                137.0         0.0         1.0         0.0        36.0   \n",
       "...                ...         ...         ...         ...         ...   \n",
       "253557             4.0         5.0         1.0         9.0         3.0   \n",
       "253558             1.0         0.0         1.0         0.0         0.0   \n",
       "253559             7.0         0.0        79.0         1.0         0.0   \n",
       "253560             0.0         0.0         0.0         0.0         1.0   \n",
       "253561             1.0         0.0         1.0         0.0         0.0   \n",
       "\n",
       "            time_diff6  time_diff7  time_diff8  time_diff9  time_of_session  \\\n",
       "session_id                                                                    \n",
       "1                  0.0         0.0         0.0         0.0              0.0   \n",
       "2                  1.0         0.0        23.0         1.0             26.0   \n",
       "3                  1.0         1.0         1.0         2.0              7.0   \n",
       "4                 30.0        30.0        30.0        30.0            270.0   \n",
       "5                  0.0         0.0        67.0         5.0            246.0   \n",
       "...                ...         ...         ...         ...              ...   \n",
       "253557            12.0        12.0        12.0         1.0             59.0   \n",
       "253558             1.0         0.0         0.0         0.0              3.0   \n",
       "253559             0.0         0.0         0.0         0.0             87.0   \n",
       "253560             0.0         0.0         1.0         0.0              2.0   \n",
       "253561             0.0         1.0         0.0         0.0              3.0   \n",
       "\n",
       "            hour  dow  month  unique_sites  target_hour  target_dow  \\\n",
       "session_id                                                            \n",
       "1             10    3      2             1            0           0   \n",
       "2             11    5      2             1            0           1   \n",
       "3             16    0     12             1            1           0   \n",
       "4             10    4      3             1            0           0   \n",
       "5             10    4      2             1            0           0   \n",
       "...          ...  ...    ...           ...          ...         ...   \n",
       "253557        10    0     11             1            0           0   \n",
       "253558        16    1      3             1            1           0   \n",
       "253559        14    3      9             1            0           0   \n",
       "253560        15    3     12             1            0           0   \n",
       "253561         9    4      4             1            0           0   \n",
       "\n",
       "            target_month  \n",
       "session_id                \n",
       "1                      0  \n",
       "2                      0  \n",
       "3                      0  \n",
       "4                      0  \n",
       "5                      0  \n",
       "...                  ...  \n",
       "253557                 0  \n",
       "253558                 0  \n",
       "253559                 0  \n",
       "253560                 0  \n",
       "253561                 0  \n",
       "\n",
       "[253561 rows x 17 columns]"
      ],
      "text/html": [
       "<div>\n",
       "<style scoped>\n",
       "    .dataframe tbody tr th:only-of-type {\n",
       "        vertical-align: middle;\n",
       "    }\n",
       "\n",
       "    .dataframe tbody tr th {\n",
       "        vertical-align: top;\n",
       "    }\n",
       "\n",
       "    .dataframe thead th {\n",
       "        text-align: right;\n",
       "    }\n",
       "</style>\n",
       "<table border=\"1\" class=\"dataframe\">\n",
       "  <thead>\n",
       "    <tr style=\"text-align: right;\">\n",
       "      <th></th>\n",
       "      <th>time_diff1</th>\n",
       "      <th>time_diff2</th>\n",
       "      <th>time_diff3</th>\n",
       "      <th>time_diff4</th>\n",
       "      <th>time_diff5</th>\n",
       "      <th>time_diff6</th>\n",
       "      <th>time_diff7</th>\n",
       "      <th>time_diff8</th>\n",
       "      <th>time_diff9</th>\n",
       "      <th>time_of_session</th>\n",
       "      <th>hour</th>\n",
       "      <th>dow</th>\n",
       "      <th>month</th>\n",
       "      <th>unique_sites</th>\n",
       "      <th>target_hour</th>\n",
       "      <th>target_dow</th>\n",
       "      <th>target_month</th>\n",
       "    </tr>\n",
       "    <tr>\n",
       "      <th>session_id</th>\n",
       "      <th></th>\n",
       "      <th></th>\n",
       "      <th></th>\n",
       "      <th></th>\n",
       "      <th></th>\n",
       "      <th></th>\n",
       "      <th></th>\n",
       "      <th></th>\n",
       "      <th></th>\n",
       "      <th></th>\n",
       "      <th></th>\n",
       "      <th></th>\n",
       "      <th></th>\n",
       "      <th></th>\n",
       "      <th></th>\n",
       "      <th></th>\n",
       "      <th></th>\n",
       "    </tr>\n",
       "  </thead>\n",
       "  <tbody>\n",
       "    <tr>\n",
       "      <th>1</th>\n",
       "      <td>0.0</td>\n",
       "      <td>0.0</td>\n",
       "      <td>0.0</td>\n",
       "      <td>0.0</td>\n",
       "      <td>0.0</td>\n",
       "      <td>0.0</td>\n",
       "      <td>0.0</td>\n",
       "      <td>0.0</td>\n",
       "      <td>0.0</td>\n",
       "      <td>0.0</td>\n",
       "      <td>10</td>\n",
       "      <td>3</td>\n",
       "      <td>2</td>\n",
       "      <td>1</td>\n",
       "      <td>0</td>\n",
       "      <td>0</td>\n",
       "      <td>0</td>\n",
       "    </tr>\n",
       "    <tr>\n",
       "      <th>2</th>\n",
       "      <td>0.0</td>\n",
       "      <td>1.0</td>\n",
       "      <td>0.0</td>\n",
       "      <td>0.0</td>\n",
       "      <td>0.0</td>\n",
       "      <td>1.0</td>\n",
       "      <td>0.0</td>\n",
       "      <td>23.0</td>\n",
       "      <td>1.0</td>\n",
       "      <td>26.0</td>\n",
       "      <td>11</td>\n",
       "      <td>5</td>\n",
       "      <td>2</td>\n",
       "      <td>1</td>\n",
       "      <td>0</td>\n",
       "      <td>1</td>\n",
       "      <td>0</td>\n",
       "    </tr>\n",
       "    <tr>\n",
       "      <th>3</th>\n",
       "      <td>1.0</td>\n",
       "      <td>1.0</td>\n",
       "      <td>0.0</td>\n",
       "      <td>0.0</td>\n",
       "      <td>0.0</td>\n",
       "      <td>1.0</td>\n",
       "      <td>1.0</td>\n",
       "      <td>1.0</td>\n",
       "      <td>2.0</td>\n",
       "      <td>7.0</td>\n",
       "      <td>16</td>\n",
       "      <td>0</td>\n",
       "      <td>12</td>\n",
       "      <td>1</td>\n",
       "      <td>1</td>\n",
       "      <td>0</td>\n",
       "      <td>0</td>\n",
       "    </tr>\n",
       "    <tr>\n",
       "      <th>4</th>\n",
       "      <td>30.0</td>\n",
       "      <td>30.0</td>\n",
       "      <td>30.0</td>\n",
       "      <td>30.0</td>\n",
       "      <td>30.0</td>\n",
       "      <td>30.0</td>\n",
       "      <td>30.0</td>\n",
       "      <td>30.0</td>\n",
       "      <td>30.0</td>\n",
       "      <td>270.0</td>\n",
       "      <td>10</td>\n",
       "      <td>4</td>\n",
       "      <td>3</td>\n",
       "      <td>1</td>\n",
       "      <td>0</td>\n",
       "      <td>0</td>\n",
       "      <td>0</td>\n",
       "    </tr>\n",
       "    <tr>\n",
       "      <th>5</th>\n",
       "      <td>137.0</td>\n",
       "      <td>0.0</td>\n",
       "      <td>1.0</td>\n",
       "      <td>0.0</td>\n",
       "      <td>36.0</td>\n",
       "      <td>0.0</td>\n",
       "      <td>0.0</td>\n",
       "      <td>67.0</td>\n",
       "      <td>5.0</td>\n",
       "      <td>246.0</td>\n",
       "      <td>10</td>\n",
       "      <td>4</td>\n",
       "      <td>2</td>\n",
       "      <td>1</td>\n",
       "      <td>0</td>\n",
       "      <td>0</td>\n",
       "      <td>0</td>\n",
       "    </tr>\n",
       "    <tr>\n",
       "      <th>...</th>\n",
       "      <td>...</td>\n",
       "      <td>...</td>\n",
       "      <td>...</td>\n",
       "      <td>...</td>\n",
       "      <td>...</td>\n",
       "      <td>...</td>\n",
       "      <td>...</td>\n",
       "      <td>...</td>\n",
       "      <td>...</td>\n",
       "      <td>...</td>\n",
       "      <td>...</td>\n",
       "      <td>...</td>\n",
       "      <td>...</td>\n",
       "      <td>...</td>\n",
       "      <td>...</td>\n",
       "      <td>...</td>\n",
       "      <td>...</td>\n",
       "    </tr>\n",
       "    <tr>\n",
       "      <th>253557</th>\n",
       "      <td>4.0</td>\n",
       "      <td>5.0</td>\n",
       "      <td>1.0</td>\n",
       "      <td>9.0</td>\n",
       "      <td>3.0</td>\n",
       "      <td>12.0</td>\n",
       "      <td>12.0</td>\n",
       "      <td>12.0</td>\n",
       "      <td>1.0</td>\n",
       "      <td>59.0</td>\n",
       "      <td>10</td>\n",
       "      <td>0</td>\n",
       "      <td>11</td>\n",
       "      <td>1</td>\n",
       "      <td>0</td>\n",
       "      <td>0</td>\n",
       "      <td>0</td>\n",
       "    </tr>\n",
       "    <tr>\n",
       "      <th>253558</th>\n",
       "      <td>1.0</td>\n",
       "      <td>0.0</td>\n",
       "      <td>1.0</td>\n",
       "      <td>0.0</td>\n",
       "      <td>0.0</td>\n",
       "      <td>1.0</td>\n",
       "      <td>0.0</td>\n",
       "      <td>0.0</td>\n",
       "      <td>0.0</td>\n",
       "      <td>3.0</td>\n",
       "      <td>16</td>\n",
       "      <td>1</td>\n",
       "      <td>3</td>\n",
       "      <td>1</td>\n",
       "      <td>1</td>\n",
       "      <td>0</td>\n",
       "      <td>0</td>\n",
       "    </tr>\n",
       "    <tr>\n",
       "      <th>253559</th>\n",
       "      <td>7.0</td>\n",
       "      <td>0.0</td>\n",
       "      <td>79.0</td>\n",
       "      <td>1.0</td>\n",
       "      <td>0.0</td>\n",
       "      <td>0.0</td>\n",
       "      <td>0.0</td>\n",
       "      <td>0.0</td>\n",
       "      <td>0.0</td>\n",
       "      <td>87.0</td>\n",
       "      <td>14</td>\n",
       "      <td>3</td>\n",
       "      <td>9</td>\n",
       "      <td>1</td>\n",
       "      <td>0</td>\n",
       "      <td>0</td>\n",
       "      <td>0</td>\n",
       "    </tr>\n",
       "    <tr>\n",
       "      <th>253560</th>\n",
       "      <td>0.0</td>\n",
       "      <td>0.0</td>\n",
       "      <td>0.0</td>\n",
       "      <td>0.0</td>\n",
       "      <td>1.0</td>\n",
       "      <td>0.0</td>\n",
       "      <td>0.0</td>\n",
       "      <td>1.0</td>\n",
       "      <td>0.0</td>\n",
       "      <td>2.0</td>\n",
       "      <td>15</td>\n",
       "      <td>3</td>\n",
       "      <td>12</td>\n",
       "      <td>1</td>\n",
       "      <td>0</td>\n",
       "      <td>0</td>\n",
       "      <td>0</td>\n",
       "    </tr>\n",
       "    <tr>\n",
       "      <th>253561</th>\n",
       "      <td>1.0</td>\n",
       "      <td>0.0</td>\n",
       "      <td>1.0</td>\n",
       "      <td>0.0</td>\n",
       "      <td>0.0</td>\n",
       "      <td>0.0</td>\n",
       "      <td>1.0</td>\n",
       "      <td>0.0</td>\n",
       "      <td>0.0</td>\n",
       "      <td>3.0</td>\n",
       "      <td>9</td>\n",
       "      <td>4</td>\n",
       "      <td>4</td>\n",
       "      <td>1</td>\n",
       "      <td>0</td>\n",
       "      <td>0</td>\n",
       "      <td>0</td>\n",
       "    </tr>\n",
       "  </tbody>\n",
       "</table>\n",
       "<p>253561 rows × 17 columns</p>\n",
       "</div>"
      ]
     },
     "execution_count": 12,
     "metadata": {},
     "output_type": "execute_result"
    }
   ],
   "execution_count": 12
  },
  {
   "metadata": {
    "ExecuteTime": {
     "end_time": "2025-01-12T14:40:57.395232Z",
     "start_time": "2025-01-12T14:40:30.002Z"
    }
   },
   "cell_type": "code",
   "source": [
    "SEED = 42\n",
    "X_train, X_test, y_train, y_test = train_test_split(test, y, test_size=0.2, random_state=SEED)\n",
    "\n",
    "# from imblearn.over_sampling import SMOTE\n",
    "# sm = SMOTE(random_state=42)\n",
    "# X_resampled, y_resampled = sm.fit_resample(X_train, y_train)\n",
    "\n",
    "params = {\n",
    "   \"loss_function\": 'Logloss',\n",
    "    \"eval_metric\": 'PRAUC',\n",
    "    \"verbose\": 200,\n",
    "    \"random_seed\": SEED,\n",
    "    \"depth\": 8,\n",
    "    \"learning_rate\": 0.05,\n",
    "    \"l2_leaf_reg\": 10,\n",
    "    'class_weights' : [1, 110]\n",
    "}\n",
    "\n",
    "\n",
    "cb_1 = CatBoostClassifier(**params)\n",
    "\n",
    "cb_1.fit(X_train, y_train,\n",
    "       eval_set = (X_test, y_test),\n",
    "       use_best_model = True)"
   ],
   "outputs": [
    {
     "name": "stdout",
     "output_type": "stream",
     "text": [
      "0:\tlearn: 0.8839896\ttest: 0.8913804\tbest: 0.8913804 (0)\ttotal: 75.4ms\tremaining: 1m 15s\n",
      "200:\tlearn: 0.9780586\ttest: 0.9701893\tbest: 0.9710737 (177)\ttotal: 6.49s\tremaining: 25.8s\n",
      "400:\tlearn: 0.9914296\ttest: 0.9751961\tbest: 0.9752041 (399)\ttotal: 11.7s\tremaining: 17.4s\n",
      "600:\tlearn: 0.9965970\ttest: 0.9774839\tbest: 0.9774839 (600)\ttotal: 16.9s\tremaining: 11.2s\n",
      "800:\tlearn: 0.9985889\ttest: 0.9785060\tbest: 0.9785184 (798)\ttotal: 22.1s\tremaining: 5.48s\n",
      "999:\tlearn: 0.9993130\ttest: 0.9790329\tbest: 0.9790329 (999)\ttotal: 27.2s\tremaining: 0us\n",
      "\n",
      "bestTest = 0.9790329422\n",
      "bestIteration = 999\n",
      "\n"
     ]
    },
    {
     "data": {
      "text/plain": [
       "<catboost.core.CatBoostClassifier at 0x32bfac0b0>"
      ]
     },
     "execution_count": 13,
     "metadata": {},
     "output_type": "execute_result"
    }
   ],
   "execution_count": 13
  },
  {
   "metadata": {
    "ExecuteTime": {
     "end_time": "2025-01-12T14:40:57.426938Z",
     "start_time": "2025-01-12T14:40:57.412732Z"
    }
   },
   "cell_type": "code",
   "source": [
    "y_pred = cb_1.predict_proba(X_test)[:, 1]\n",
    "y_pred"
   ],
   "outputs": [
    {
     "data": {
      "text/plain": [
       "array([2.38554381e-05, 4.69044248e-04, 3.83643957e-01, ...,\n",
       "       1.16643690e-02, 1.34467143e-03, 1.72755507e-08])"
      ]
     },
     "execution_count": 14,
     "metadata": {},
     "output_type": "execute_result"
    }
   ],
   "execution_count": 14
  },
  {
   "metadata": {
    "ExecuteTime": {
     "end_time": "2025-01-12T14:40:57.437773Z",
     "start_time": "2025-01-12T14:40:57.436185Z"
    }
   },
   "cell_type": "code",
   "source": "catboost_test = (y_pred, y_test)",
   "outputs": [],
   "execution_count": 15
  },
  {
   "metadata": {
    "ExecuteTime": {
     "end_time": "2025-01-12T14:40:57.455424Z",
     "start_time": "2025-01-12T14:40:57.450308Z"
    }
   },
   "cell_type": "code",
   "source": "cb_1.save_model('catboost_model.cbm', format='cbm')",
   "outputs": [],
   "execution_count": 16
  },
  {
   "metadata": {
    "ExecuteTime": {
     "end_time": "2025-01-12T14:40:57.491350Z",
     "start_time": "2025-01-12T14:40:57.467723Z"
    }
   },
   "cell_type": "code",
   "source": "import xgboost as xgb",
   "outputs": [],
   "execution_count": 17
  },
  {
   "metadata": {
    "ExecuteTime": {
     "end_time": "2025-01-12T14:40:57.727635Z",
     "start_time": "2025-01-12T14:40:57.502989Z"
    }
   },
   "cell_type": "code",
   "source": [
    "\n",
    "xgb_model = xgb.XGBClassifier(\n",
    "    n_estimators=100,\n",
    "    learning_rate=0.1,\n",
    "    max_depth=3,\n",
    "    random_state=42,\n",
    "    eval_metric=\"auc\",\n",
    "    scale_pos_weight=110\n",
    ")\n",
    "\n",
    "xgb_model.fit(X_train, y_train)\n",
    "xgb_predicted = xgb_model.predict_proba(X_test)[:, 1]"
   ],
   "outputs": [],
   "execution_count": 18
  },
  {
   "metadata": {
    "ExecuteTime": {
     "end_time": "2025-01-12T14:40:57.742334Z",
     "start_time": "2025-01-12T14:40:57.741017Z"
    }
   },
   "cell_type": "code",
   "source": "xgb_predicted_test = (xgb_predicted, y_test)",
   "outputs": [],
   "execution_count": 19
  },
  {
   "metadata": {
    "ExecuteTime": {
     "end_time": "2025-01-12T14:40:57.781316Z",
     "start_time": "2025-01-12T14:40:57.756050Z"
    }
   },
   "cell_type": "code",
   "source": "import lightgbm as lgb",
   "outputs": [],
   "execution_count": 20
  },
  {
   "metadata": {
    "ExecuteTime": {
     "end_time": "2025-01-12T14:40:58.579576Z",
     "start_time": "2025-01-12T14:40:57.795004Z"
    }
   },
   "cell_type": "code",
   "source": [
    "lgb_model = lgb.LGBMClassifier(\n",
    "    n_estimators=100,\n",
    "    learning_rate=0.1,\n",
    "    max_depth=-1,\n",
    "    random_state=42,\n",
    "    class_weight='balanced'\n",
    ")\n",
    "lgb_model.fit(X_train, y_train)\n",
    "\n",
    "lgb_predict = lgb_model.predict_proba(X_test)[:,1]"
   ],
   "outputs": [
    {
     "name": "stdout",
     "output_type": "stream",
     "text": [
      "[LightGBM] [Info] Number of positive: 1839, number of negative: 201009\n",
      "[LightGBM] [Info] Auto-choosing row-wise multi-threading, the overhead of testing was 0.002085 seconds.\n",
      "You can set `force_row_wise=true` to remove the overhead.\n",
      "And if memory is not enough, you can set `force_col_wise=true`.\n",
      "[LightGBM] [Info] Total Bins 2592\n",
      "[LightGBM] [Info] Number of data points in the train set: 202848, number of used features: 15\n",
      "[LightGBM] [Info] [binary:BoostFromScore]: pavg=0.500000 -> initscore=0.000000\n",
      "[LightGBM] [Info] Start training from score 0.000000\n"
     ]
    }
   ],
   "execution_count": 21
  },
  {
   "metadata": {
    "ExecuteTime": {
     "end_time": "2025-01-12T14:40:58.595740Z",
     "start_time": "2025-01-12T14:40:58.594309Z"
    }
   },
   "cell_type": "code",
   "source": "lgb_pred_test = (lgb_predict, y_test)\n",
   "outputs": [],
   "execution_count": 22
  },
  {
   "metadata": {
    "ExecuteTime": {
     "end_time": "2025-01-12T14:41:06.522323Z",
     "start_time": "2025-01-12T14:40:58.609703Z"
    }
   },
   "cell_type": "code",
   "source": [
    "from sklearn.ensemble import RandomForestClassifier\n",
    "\n",
    "\n",
    "rf_model = RandomForestClassifier(class_weight='balanced', random_state=42)\n",
    "\n",
    "rf_model.fit(X_train, y_train)\n",
    "rf_predicted = rf_model.predict_proba(X_test)[:, 1]"
   ],
   "outputs": [],
   "execution_count": 23
  },
  {
   "metadata": {
    "ExecuteTime": {
     "end_time": "2025-01-12T14:41:06.538850Z",
     "start_time": "2025-01-12T14:41:06.537381Z"
    }
   },
   "cell_type": "code",
   "source": "rf_predicted_test = (rf_predicted, y_test)",
   "outputs": [],
   "execution_count": 24
  },
  {
   "metadata": {
    "ExecuteTime": {
     "end_time": "2025-01-12T14:41:06.555494Z",
     "start_time": "2025-01-12T14:41:06.553952Z"
    }
   },
   "cell_type": "code",
   "source": [
    "pred_test_array = [catboost_test, xgb_predicted_test, lgb_pred_test, rf_predicted_test]\n",
    "\n",
    "models_list = [\n",
    "    'CatBoostClassifier',\n",
    "    'XGBoostClassifier',\n",
    "    'LightGBMClassifier',\n",
    "    'RandomForestClassifier'\n",
    "]"
   ],
   "outputs": [],
   "execution_count": 25
  },
  {
   "metadata": {
    "ExecuteTime": {
     "end_time": "2025-01-12T14:41:06.739246Z",
     "start_time": "2025-01-12T14:41:06.571015Z"
    }
   },
   "cell_type": "code",
   "source": [
    "from sklearn.metrics import auc, precision_recall_curve\n",
    "\n",
    "\n",
    "plt.figure(figsize=(10, 8))\n",
    "    \n",
    "for model_name, (y_pred, y_test_) in zip(models_list, pred_test_array):\n",
    "    precision, recall, _ = precision_recall_curve(y_test_, y_pred)\n",
    "    roc_auc = auc(recall, precision)  \n",
    "    plt.plot(recall, precision, label=f'{model_name} (PR_AUC = {roc_auc:.2f})')\n",
    "\n",
    "plt.title(\"PR-AUC Curve for Models\", fontsize=16)\n",
    "plt.xlabel(\"Recall\", fontsize=12)\n",
    "plt.ylabel(\"Precision\", fontsize=12)\n",
    "plt.legend(loc='lower right', fontsize=10)\n",
    "plt.grid(alpha=0.3)\n",
    "plt.show()"
   ],
   "outputs": [
    {
     "data": {
      "text/plain": [
       "<Figure size 1000x800 with 1 Axes>"
      ],
      "image/png": "[encoded data removed]"
     },
     "metadata": {},
     "output_type": "display_data"
    }
   ],
   "execution_count": 26
  },
  {
   "metadata": {
    "ExecuteTime": {
     "end_time": "2025-01-12T14:41:06.879828Z",
     "start_time": "2025-01-12T14:41:06.797805Z"
    }
   },
   "cell_type": "code",
   "source": [
    "from sklearn.metrics import accuracy_score, precision_score, recall_score, f1_score\n",
    "\n",
    "cat_classes = np.where(y_pred > 0.5, 1, 0)\n",
    "xgb_classes = np.where(xgb_predicted > 0.5, 1, 0)\n",
    "lgb_classes = np.where(lgb_predict > 0.5, 1, 0)\n",
    "rf_classes = np.where(rf_predicted > 0.5, 1, 0)\n",
    "\n",
    "\n",
    "cat_accuracy = accuracy_score(cat_classes, y_test)\n",
    "xgb_accuracy = accuracy_score(xgb_classes, y_test)\n",
    "lgb_accuracy = accuracy_score(lgb_classes, y_test)\n",
    "rf_accuracy = accuracy_score(rf_classes, y_test)\n",
    "\n",
    "cat_precision = precision_score(cat_classes, y_test)\n",
    "xgb_precision = precision_score(xgb_classes, y_test)\n",
    "lgb_precision = precision_score(lgb_classes, y_test)\n",
    "rf_precision = precision_score(rf_classes, y_test)\n",
    "\n",
    "cat_recall = recall_score(cat_classes, y_test)\n",
    "xgb_recall = recall_score(xgb_classes, y_test)\n",
    "lgb_recall = recall_score(lgb_classes, y_test)\n",
    "rf_recall = recall_score(rf_classes, y_test)\n",
    "\n",
    "cat_f1 = f1_score(cat_classes, y_test)\n",
    "xgb_f1 = f1_score(xgb_classes, y_test)\n",
    "lgb_f1 = f1_score(lgb_classes, y_test)\n",
    "rf_f1 = f1_score(rf_classes, y_test)\n",
    "\n",
    "results = {\n",
    "    'accuracy': [cat_accuracy, xgb_accuracy, lgb_accuracy, rf_accuracy],\n",
    "    'precision' : [cat_precision, xgb_precision, lgb_precision, rf_precision],\n",
    "    'recall': [cat_recall, xgb_recall, lgb_recall, rf_recall],\n",
    "    'F1-score' : [cat_f1, xgb_f1, lgb_f1, rf_f1]\n",
    "}\n",
    "\n",
    "scores = pd.DataFrame(results, index = ['CatBoost', 'XGBoost', 'LightGBM', 'RandomForest'])\n",
    "scores"
   ],
   "outputs": [
    {
     "data": {
      "text/plain": [
       "              accuracy  precision    recall  F1-score\n",
       "CatBoost      0.991817   0.161572  0.704762  0.262877\n",
       "XGBoost       0.881786   0.938865  0.067219  0.125456\n",
       "LightGBM      0.941455   0.925764  0.126228  0.222164\n",
       "RandomForest  0.991817   0.161572  0.704762  0.262877"
      ],
      "text/html": [
       "<div>\n",
       "<style scoped>\n",
       "    .dataframe tbody tr th:only-of-type {\n",
       "        vertical-align: middle;\n",
       "    }\n",
       "\n",
       "    .dataframe tbody tr th {\n",
       "        vertical-align: top;\n",
       "    }\n",
       "\n",
       "    .dataframe thead th {\n",
       "        text-align: right;\n",
       "    }\n",
       "</style>\n",
       "<table border=\"1\" class=\"dataframe\">\n",
       "  <thead>\n",
       "    <tr style=\"text-align: right;\">\n",
       "      <th></th>\n",
       "      <th>accuracy</th>\n",
       "      <th>precision</th>\n",
       "      <th>recall</th>\n",
       "      <th>F1-score</th>\n",
       "    </tr>\n",
       "  </thead>\n",
       "  <tbody>\n",
       "    <tr>\n",
       "      <th>CatBoost</th>\n",
       "      <td>0.991817</td>\n",
       "      <td>0.161572</td>\n",
       "      <td>0.704762</td>\n",
       "      <td>0.262877</td>\n",
       "    </tr>\n",
       "    <tr>\n",
       "      <th>XGBoost</th>\n",
       "      <td>0.881786</td>\n",
       "      <td>0.938865</td>\n",
       "      <td>0.067219</td>\n",
       "      <td>0.125456</td>\n",
       "    </tr>\n",
       "    <tr>\n",
       "      <th>LightGBM</th>\n",
       "      <td>0.941455</td>\n",
       "      <td>0.925764</td>\n",
       "      <td>0.126228</td>\n",
       "      <td>0.222164</td>\n",
       "    </tr>\n",
       "    <tr>\n",
       "      <th>RandomForest</th>\n",
       "      <td>0.991817</td>\n",
       "      <td>0.161572</td>\n",
       "      <td>0.704762</td>\n",
       "      <td>0.262877</td>\n",
       "    </tr>\n",
       "  </tbody>\n",
       "</table>\n",
       "</div>"
      ]
     },
     "execution_count": 27,
     "metadata": {},
     "output_type": "execute_result"
    }
   ],
   "execution_count": 27
  },
  {
   "metadata": {
    "ExecuteTime": {
     "end_time": "2025-01-12T14:41:06.959384Z",
     "start_time": "2025-01-12T14:41:06.908953Z"
    }
   },
   "cell_type": "code",
   "source": [
    "from sklearn.metrics import confusion_matrix\n",
    "cm = confusion_matrix(y_test, cat_classes)\n",
    "\n",
    "plt.figure(figsize=(10, 8))\n",
    "\n",
    "sns.heatmap(cm, annot=True, fmt='d', cmap='Blues', cbar=False)\n",
    "plt.title(f'Confusion Matrix CatBoost', fontsize=16)\n",
    "plt.xlabel('Predicted Label')\n",
    "plt.ylabel('True Label')"
   ],
   "outputs": [
    {
     "data": {
      "text/plain": [
       "Text(95.72222222222221, 0.5, 'True Label')"
      ]
     },
     "execution_count": 28,
     "metadata": {},
     "output_type": "execute_result"
    },
    {
     "data": {
      "text/plain": [
       "<Figure size 1000x800 with 1 Axes>"
      ],
      "image/png": "[encoded data removed]"
     },
     "metadata": {},
     "output_type": "display_data"
    }
   ],
   "execution_count": 28
  },
  {
   "metadata": {
    "ExecuteTime": {
     "end_time": "2025-01-12T14:41:06.978094Z",
     "start_time": "2025-01-12T14:41:06.974150Z"
    }
   },
   "cell_type": "code",
   "source": [
    "y_true = y_test[y_test == 1]\n",
    "X_true = X_test.loc[y_true.index]\n",
    "\n",
    "y_proba = cb_1.predict_proba(X_true)[:, 1]"
   ],
   "outputs": [],
   "execution_count": 29
  },
  {
   "metadata": {
    "ExecuteTime": {
     "end_time": "2025-01-12T14:41:06.985940Z",
     "start_time": "2025-01-12T14:41:06.983312Z"
    }
   },
   "cell_type": "code",
   "source": "np.where(y_proba > 0.5, 1, 0)",
   "outputs": [
    {
     "data": {
      "text/plain": [
       "array([1, 0, 1, 0, 1, 0, 0, 1, 1, 1, 1, 1, 1, 1, 1, 0, 1, 1, 1, 1, 1, 0,\n",
       "       1, 1, 0, 1, 0, 1, 1, 1, 1, 1, 1, 1, 1, 1, 1, 1, 1, 1, 0, 1, 1, 0,\n",
       "       0, 1, 1, 1, 1, 1, 1, 1, 1, 1, 0, 0, 1, 1, 1, 1, 1, 1, 1, 1, 1, 1,\n",
       "       1, 1, 1, 0, 1, 1, 1, 1, 1, 0, 1, 1, 1, 1, 0, 0, 1, 1, 1, 1, 1, 1,\n",
       "       0, 1, 1, 1, 1, 0, 1, 1, 1, 1, 1, 1, 1, 1, 1, 1, 1, 1, 1, 0, 0, 1,\n",
       "       0, 1, 1, 1, 0, 1, 1, 1, 1, 1, 1, 1, 1, 1, 1, 1, 1, 1, 0, 1, 1, 1,\n",
       "       1, 1, 0, 1, 1, 0, 1, 0, 1, 0, 1, 1, 1, 1, 1, 1, 1, 1, 0, 1, 1, 1,\n",
       "       1, 1, 1, 1, 1, 1, 1, 1, 1, 1, 0, 1, 1, 1, 1, 0, 1, 1, 1, 1, 0, 1,\n",
       "       1, 0, 1, 1, 1, 1, 1, 1, 1, 1, 1, 1, 1, 1, 1, 1, 0, 1, 0, 1, 1, 1,\n",
       "       1, 1, 0, 1, 1, 1, 1, 1, 1, 1, 0, 1, 1, 0, 0, 1, 1, 1, 1, 1, 1, 0,\n",
       "       1, 1, 1, 1, 1, 1, 0, 0, 1, 1, 1, 1, 1, 1, 1, 1, 1, 0, 1, 0, 0, 0,\n",
       "       1, 1, 1, 0, 1, 1, 1, 1, 1, 1, 1, 1, 1, 1, 1, 0, 1, 1, 1, 1, 1, 1,\n",
       "       1, 1, 0, 1, 1, 1, 1, 1, 1, 1, 1, 1, 1, 1, 1, 1, 1, 1, 1, 1, 1, 1,\n",
       "       1, 1, 1, 1, 1, 1, 1, 1, 1, 0, 1, 1, 1, 1, 0, 1, 1, 0, 1, 1, 1, 1,\n",
       "       1, 1, 1, 1, 1, 1, 1, 1, 1, 1, 1, 0, 1, 1, 1, 1, 1, 1, 1, 1, 0, 1,\n",
       "       1, 0, 0, 1, 0, 0, 1, 1, 1, 1, 1, 0, 1, 1, 1, 0, 0, 1, 1, 1, 1, 1,\n",
       "       0, 1, 1, 1, 0, 1, 0, 1, 1, 1, 1, 1, 1, 1, 1, 1, 1, 0, 1, 1, 1, 1,\n",
       "       1, 1, 1, 0, 0, 1, 1, 1, 1, 0, 1, 1, 1, 1, 1, 1, 1, 1, 1, 1, 1, 1,\n",
       "       1, 0, 1, 1, 1, 0, 0, 1, 1, 1, 0, 0, 0, 1, 1, 1, 1, 1, 0, 0, 1, 1,\n",
       "       0, 1, 1, 1, 1, 0, 1, 1, 0, 1, 1, 1, 1, 1, 1, 1, 1, 1, 0, 1, 1, 0,\n",
       "       1, 0, 1, 1, 1, 1, 1, 1, 1, 0, 1, 1, 1, 1, 1, 1, 1, 0])"
      ]
     },
     "execution_count": 30,
     "metadata": {},
     "output_type": "execute_result"
    }
   ],
   "execution_count": 30
  },
  {
   "metadata": {
    "ExecuteTime": {
     "end_time": "2025-01-12T14:41:07.012955Z",
     "start_time": "2025-01-12T14:41:07.008681Z"
    }
   },
   "cell_type": "code",
   "source": "confusion_matrix(y_true, np.where(y_proba > 0.5, 1, 0))",
   "outputs": [
    {
     "data": {
      "text/plain": [
       "array([[  0,   0],\n",
       "       [ 84, 374]])"
      ]
     },
     "execution_count": 31,
     "metadata": {},
     "output_type": "execute_result"
    }
   ],
   "execution_count": 31
  },
  {
   "metadata": {
    "ExecuteTime": {
     "end_time": "2025-01-12T14:41:07.049605Z",
     "start_time": "2025-01-12T14:41:07.045861Z"
    }
   },
   "cell_type": "code",
   "source": "set(xgb_classes)",
   "outputs": [
    {
     "data": {
      "text/plain": [
       "{0, 1}"
      ]
     },
     "execution_count": 32,
     "metadata": {},
     "output_type": "execute_result"
    }
   ],
   "execution_count": 32
  },
  {
   "metadata": {
    "ExecuteTime": {
     "end_time": "2025-01-12T14:41:07.070807Z",
     "start_time": "2025-01-12T14:41:07.066868Z"
    }
   },
   "cell_type": "code",
   "source": "recall_score(y_true, np.where(y_proba > 0.5, 1, 0))",
   "outputs": [
    {
     "data": {
      "text/plain": [
       "0.8165938864628821"
      ]
     },
     "execution_count": 33,
     "metadata": {},
     "output_type": "execute_result"
    }
   ],
   "execution_count": 33
  },
  {
   "metadata": {
    "ExecuteTime": {
     "end_time": "2025-01-12T14:41:07.089441Z",
     "start_time": "2025-01-12T14:41:07.088183Z"
    }
   },
   "cell_type": "code",
   "source": "",
   "outputs": [],
   "execution_count": null
  }
 ],
 "metadata": {
  "kernelspec": {
   "display_name": ".venv",
   "language": "python",
   "name": "python3"
  },
  "language_info": {
   "codemirror_mode": {
    "name": "ipython",
    "version": 3
   },
   "file_extension": ".py",
   "mimetype": "text/x-python",
   "name": "python",
   "nbconvert_exporter": "python",
   "pygments_lexer": "ipython3",
   "version": "3.9.6"
  }
 },
 "nbformat": 4,
 "nbformat_minor": 2
}
